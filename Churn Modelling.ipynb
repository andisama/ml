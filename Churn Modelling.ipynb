{
    "metadata": {
        "language_info": {
            "name": "python", 
            "mimetype": "text/x-python", 
            "nbconvert_exporter": "python", 
            "pygments_lexer": "ipython2", 
            "codemirror_mode": {
                "name": "ipython", 
                "version": 2
            }, 
            "file_extension": ".py", 
            "version": "2.7.11"
        }, 
        "kernelspec": {
            "display_name": "Python 2 with Spark 2.0", 
            "name": "python2-spark20", 
            "language": "python"
        }
    }, 
    "nbformat": 4, 
    "cells": [
        {
            "source": "# Author: Andi Sama\n# Organization: Sinergi Wahana Gemilang\n#   a Value Added Distributor in Jakarta, Indonesia\n# Created: February 7, 2018\n# Last modified: February 8, 2018\n#   - minor changes, typo in comments\n#   - add model visualization (using keras API)\n# Topic: A simple step by step to understand deep learning\n# Purpose: Illustration on how to do Deep Learning \n#   - Load existing dataset (data uploaded to IBM DSX Object Storage)\n#   - Data preparation to be ready to be processed by Neural Network\n#     (data encoding for non numbers, split data: train + test + expected output)\n#   - Build, Test Neural Network\n#     build layers, compile, fit, measure accuracy performance\n# Type of Learning: Supervised\n# Platform: Jupyter Notebook with Python 2 with Spark 2.0\n#   on IBM Data Science Experience (on IBM Cloud)\n#     - pandas for data frame manipulation\n#     - numpy for scientific matrix manipulation\n#     - matplotlib for scientific visualization\n# Dataset: https://drive.google.com/file/d/0By9Y49AzZGaUemtpNWtQMWdqRDA/view \n#   structured data with 10,000 records, 14 fields (customer churn)\n# Reference: Build your First Deep Learning Neural Network Model using Keras in Python\n#   https://medium.com/@pushkarmandot/\n#     build-your-first-deep-learning-neural-network-model-using-keras-in-python-a90b5864116d", 
            "metadata": {}, 
            "execution_count": 1, 
            "cell_type": "code", 
            "outputs": []
        }, 
        {
            "metadata": {}, 
            "source": "A. PREPARATION\n\nStep 1. Importing Required Libraries", 
            "cell_type": "markdown"
        }, 
        {
            "source": "# first overall, importing the required libraries\nimport numpy as np # matrix manipulation\nimport matplotlib.pyplot as plt # visualization\nimport pandas as pd # dataframe\nimport sys # for IBM DSX, accessing dataset in IBM Object Storage\nimport types # for IBM DSX, accessing dataset in IBM Object Storage", 
            "metadata": {}, 
            "execution_count": 2, 
            "cell_type": "code", 
            "outputs": []
        }, 
        {
            "metadata": {}, 
            "source": "B. DATA PRE-PROCESSING\n\nStep 2. Importing required data", 
            "cell_type": "markdown"
        }, 
        {
            "source": "# The code was removed by DSX for sharing.", 
            "metadata": {}, 
            "execution_count": 3, 
            "cell_type": "code", 
            "outputs": []
        }, 
        {
            "source": "# take a look at the data\ndataset.head()", 
            "metadata": {}, 
            "execution_count": 4, 
            "cell_type": "code", 
            "outputs": [
                {
                    "data": {
                        "text/html": "<div>\n<table border=\"1\" class=\"dataframe\">\n  <thead>\n    <tr style=\"text-align: right;\">\n      <th></th>\n      <th>RowNumber</th>\n      <th>CustomerId</th>\n      <th>Surname</th>\n      <th>CreditScore</th>\n      <th>Geography</th>\n      <th>Gender</th>\n      <th>Age</th>\n      <th>Tenure</th>\n      <th>Balance</th>\n      <th>NumOfProducts</th>\n      <th>HasCrCard</th>\n      <th>IsActiveMember</th>\n      <th>EstimatedSalary</th>\n      <th>Exited</th>\n    </tr>\n  </thead>\n  <tbody>\n    <tr>\n      <th>0</th>\n      <td>1</td>\n      <td>15634602</td>\n      <td>Hargrave</td>\n      <td>619</td>\n      <td>France</td>\n      <td>Female</td>\n      <td>42</td>\n      <td>2</td>\n      <td>0.00</td>\n      <td>1</td>\n      <td>1</td>\n      <td>1</td>\n      <td>101348.88</td>\n      <td>1</td>\n    </tr>\n    <tr>\n      <th>1</th>\n      <td>2</td>\n      <td>15647311</td>\n      <td>Hill</td>\n      <td>608</td>\n      <td>Spain</td>\n      <td>Female</td>\n      <td>41</td>\n      <td>1</td>\n      <td>83807.86</td>\n      <td>1</td>\n      <td>0</td>\n      <td>1</td>\n      <td>112542.58</td>\n      <td>0</td>\n    </tr>\n    <tr>\n      <th>2</th>\n      <td>3</td>\n      <td>15619304</td>\n      <td>Onio</td>\n      <td>502</td>\n      <td>France</td>\n      <td>Female</td>\n      <td>42</td>\n      <td>8</td>\n      <td>159660.80</td>\n      <td>3</td>\n      <td>1</td>\n      <td>0</td>\n      <td>113931.57</td>\n      <td>1</td>\n    </tr>\n    <tr>\n      <th>3</th>\n      <td>4</td>\n      <td>15701354</td>\n      <td>Boni</td>\n      <td>699</td>\n      <td>France</td>\n      <td>Female</td>\n      <td>39</td>\n      <td>1</td>\n      <td>0.00</td>\n      <td>2</td>\n      <td>0</td>\n      <td>0</td>\n      <td>93826.63</td>\n      <td>0</td>\n    </tr>\n    <tr>\n      <th>4</th>\n      <td>5</td>\n      <td>15737888</td>\n      <td>Mitchell</td>\n      <td>850</td>\n      <td>Spain</td>\n      <td>Female</td>\n      <td>43</td>\n      <td>2</td>\n      <td>125510.82</td>\n      <td>1</td>\n      <td>1</td>\n      <td>1</td>\n      <td>79084.10</td>\n      <td>0</td>\n    </tr>\n  </tbody>\n</table>\n</div>", 
                        "text/plain": "   RowNumber  CustomerId   Surname  CreditScore Geography  Gender  Age  \\\n0          1    15634602  Hargrave          619    France  Female   42   \n1          2    15647311      Hill          608     Spain  Female   41   \n2          3    15619304      Onio          502    France  Female   42   \n3          4    15701354      Boni          699    France  Female   39   \n4          5    15737888  Mitchell          850     Spain  Female   43   \n\n   Tenure    Balance  NumOfProducts  HasCrCard  IsActiveMember  \\\n0       2       0.00              1          1               1   \n1       1   83807.86              1          0               1   \n2       8  159660.80              3          1               0   \n3       1       0.00              2          0               0   \n4       2  125510.82              1          1               1   \n\n   EstimatedSalary  Exited  \n0        101348.88       1  \n1        112542.58       0  \n2        113931.57       1  \n3         93826.63       0  \n4         79084.10       0  "
                    }, 
                    "metadata": {}, 
                    "execution_count": 4, 
                    "output_type": "execute_result"
                }
            ]
        }, 
        {
            "source": "# print dataset.describe(include=\"all\")\n# show some statistics about the dataset\nprint(dataset.describe())", 
            "metadata": {
                "scrolled": true
            }, 
            "execution_count": 5, 
            "cell_type": "code", 
            "outputs": [
                {
                    "name": "stdout", 
                    "output_type": "stream", 
                    "text": "         RowNumber       CustomerId   CreditScore           Age        Tenure  \\\ncount  10000.00000     10000.000000  10000.000000  10000.000000  10000.000000   \nmean    5000.50000  15690940.569400    650.528800     38.921800      5.012800   \nstd     2886.89568     71936.186123     96.653299     10.487806      2.892174   \nmin        1.00000  15565701.000000    350.000000     18.000000      0.000000   \n25%     2500.75000  15628528.250000    584.000000     32.000000      3.000000   \n50%     5000.50000  15690738.000000    652.000000     37.000000      5.000000   \n75%     7500.25000  15753233.750000    718.000000     44.000000      7.000000   \nmax    10000.00000  15815690.000000    850.000000     92.000000     10.000000   \n\n             Balance  NumOfProducts    HasCrCard  IsActiveMember  \\\ncount   10000.000000   10000.000000  10000.00000    10000.000000   \nmean    76485.889288       1.530200      0.70550        0.515100   \nstd     62397.405202       0.581654      0.45584        0.499797   \nmin         0.000000       1.000000      0.00000        0.000000   \n25%         0.000000       1.000000      0.00000        0.000000   \n50%     97198.540000       1.000000      1.00000        1.000000   \n75%    127644.240000       2.000000      1.00000        1.000000   \nmax    250898.090000       4.000000      1.00000        1.000000   \n\n       EstimatedSalary        Exited  \ncount     10000.000000  10000.000000  \nmean     100090.239881      0.203700  \nstd       57510.492818      0.402769  \nmin          11.580000      0.000000  \n25%       51002.110000      0.000000  \n50%      100193.915000      0.000000  \n75%      149388.247500      0.000000  \nmax      199992.480000      1.000000  \n"
                }
            ]
        }, 
        {
            "metadata": {}, 
            "source": "Step 3. Prepare training data & target output for Supervised Learning", 
            "cell_type": "markdown"
        }, 
        {
            "source": "# python indexing starts with 0\n# select all rows for training data (matrix of features)\n#   starting from 3rd index \"Credit Score\" to (max column - 1), meaning excluding \"Exited\"\nX = dataset.iloc[:, 3:13]\n# select all rows for target data (matrix of target output variables)\n#   for last column only, \"Exited\" status\ny = dataset.iloc[:, 13]", 
            "metadata": {}, 
            "execution_count": 6, 
            "cell_type": "code", 
            "outputs": []
        }, 
        {
            "source": "# print X\n# print y\n# print pd.isnull(X)", 
            "metadata": {}, 
            "execution_count": 7, 
            "cell_type": "code", 
            "outputs": []
        }, 
        {
            "metadata": {}, 
            "source": "Step 4. Encoding string variables", 
            "cell_type": "markdown"
        }, 
        {
            "source": "# string variables need to be encoded to numeric for further processing\n# in this case, this applies to Geography (\"France\", \"Spain\", ...) & Gender (\"Male\"m \"Female\")\n# tools: use LabelEncoder in ScikitLearn libary, automatic label replacement\n#   with sequence of numeric (starting from 0)\nfrom sklearn.preprocessing import LabelEncoder, OneHotEncoder  ", 
            "metadata": {}, 
            "execution_count": 8, 
            "cell_type": "code", 
            "outputs": []
        }, 
        {
            "source": "# view & verify what we are going to change\n# print(X.iloc[:,1]) # Geography\n# print(X.iloc[:,2]) # Gender", 
            "metadata": {}, 
            "execution_count": 9, 
            "cell_type": "code", 
            "outputs": []
        }, 
        {
            "source": "# do the label encoding\nlabelencoder_X_1 = LabelEncoder()\nX.iloc[:, 1] = labelencoder_X_1.fit_transform(X.iloc[:, 1])\nlabelencoder_X_2 = LabelEncoder()\nX.iloc[:, 2] = labelencoder_X_2.fit_transform(X.iloc[:, 2])", 
            "metadata": {}, 
            "execution_count": 10, 
            "cell_type": "code", 
            "outputs": []
        }, 
        {
            "source": "onehotencoder = OneHotEncoder(categorical_features = [1])\nX = onehotencoder.fit_transform(X).toarray()", 
            "metadata": {}, 
            "execution_count": 11, 
            "cell_type": "code", 
            "outputs": []
        }, 
        {
            "source": "X = X[:, 1:]", 
            "metadata": {}, 
            "execution_count": 12, 
            "cell_type": "code", 
            "outputs": []
        }, 
        {
            "metadata": {}, 
            "source": "Step 5. Spliting the dataset into Train & Test (80%:20%)", 
            "cell_type": "markdown"
        }, 
        {
            "source": "from sklearn.cross_validation import train_test_split", 
            "metadata": {}, 
            "execution_count": 13, 
            "cell_type": "code", 
            "outputs": []
        }, 
        {
            "source": "# the split is now 75%:25%; it can also be 80%:20% or even 60%:40%\nX_train, X_test, y_train, y_test = train_test_split(X, y, test_size = 0.25)", 
            "metadata": {}, 
            "execution_count": 14, 
            "cell_type": "code", 
            "outputs": []
        }, 
        {
            "metadata": {}, 
            "source": "Step 6. Data standarization by scaling (feature scaling)", 
            "cell_type": "markdown"
        }, 
        {
            "source": "from sklearn.preprocessing import StandardScaler\nsc = StandardScaler()", 
            "metadata": {}, 
            "execution_count": 15, 
            "cell_type": "code", 
            "outputs": []
        }, 
        {
            "source": "X_train = sc.fit_transform(X_train)\nX_test = sc.fit_transform(X_test)", 
            "metadata": {}, 
            "execution_count": 16, 
            "cell_type": "code", 
            "outputs": []
        }, 
        {
            "metadata": {}, 
            "source": "C. BUILDING NEURAL NETWORK\n\nStep 7. Importing required Neural Network modules", 
            "cell_type": "markdown"
        }, 
        {
            "source": "# importing sequential module from keras framework\nfrom keras.models import Sequential\nfrom keras.layers import Dense ", 
            "metadata": {}, 
            "execution_count": 17, 
            "cell_type": "code", 
            "outputs": [
                {
                    "name": "stderr", 
                    "output_type": "stream", 
                    "text": "Using TensorFlow backend.\n"
                }
            ]
        }, 
        {
            "metadata": {}, 
            "source": "Step 8. Initializing Neural Network", 
            "cell_type": "markdown"
        }, 
        {
            "source": "classifier = Sequential()", 
            "metadata": {}, 
            "execution_count": 18, 
            "cell_type": "code", 
            "outputs": []
        }, 
        {
            "metadata": {}, 
            "source": "Step 9. Adding hidden layers to Neural Network\n\noutput_dim, input_dim (dimension) is the # of output/input nodes for this layer", 
            "cell_type": "markdown"
        }, 
        {
            "source": "# adding the input layer and the 1st hidden layer\nclassifier.add(Dense(output_dim=6, init='uniform', activation='relu', input_dim=11))", 
            "metadata": {}, 
            "execution_count": 19, 
            "cell_type": "code", 
            "outputs": []
        }, 
        {
            "source": "# adding the 2nd hidden layer\nclassifier.add(Dense(output_dim=6, init='uniform', activation='relu'))", 
            "metadata": {}, 
            "execution_count": 20, 
            "cell_type": "code", 
            "outputs": []
        }, 
        {
            "source": "# adding the 3rd hidden layer\nclassifier.add(Dense(output_dim=6, init='uniform', activation='relu'))", 
            "metadata": {}, 
            "execution_count": 21, 
            "cell_type": "code", 
            "outputs": []
        }, 
        {
            "source": "# finally, the output layer\nclassifier.add(Dense(output_dim=1, init='uniform', activation='sigmoid'))", 
            "metadata": {}, 
            "execution_count": 22, 
            "cell_type": "code", 
            "outputs": []
        }, 
        {
            "metadata": {}, 
            "source": "Step 10. Compiling the Neural Network", 
            "cell_type": "markdown"
        }, 
        {
            "source": "# adam (adaptive moment estimation) is the selected SGD (stochastic gradient descent)\n#  algorithm to find optimal weights in Neural Network\n# binary_crossentropy is the logarithmic loss function (our dependent variable is binary)\n#  for example 'categorical_entropy' is used when the dependent variable has more than 2 categories in output\n# accuracy is the selected metric for performance improvement to be based on\nclassifier.compile(optimizer='adam', loss='binary_crossentropy', metrics=['accuracy'])", 
            "metadata": {}, 
            "execution_count": 23, 
            "cell_type": "code", 
            "outputs": []
        }, 
        {
            "metadata": {}, 
            "source": "Step 11. Train the Neural Network => generates neural network model", 
            "cell_type": "markdown"
        }, 
        {
            "source": "# fit the model\nhist = classifier.fit(X_train, y_train, batch_size=32, nb_epoch=50)", 
            "metadata": {}, 
            "execution_count": 24, 
            "cell_type": "code", 
            "outputs": [
                {
                    "name": "stdout", 
                    "output_type": "stream", 
                    "text": "Epoch 1/50\n7500/7500 [==============================] - 0s - loss: 0.5717 - acc: 0.7981     \nEpoch 2/50\n7500/7500 [==============================] - 0s - loss: 0.4339 - acc: 0.7993     \nEpoch 3/50\n7500/7500 [==============================] - 0s - loss: 0.4268 - acc: 0.7993     - ETA: 0s - loss: 0.4465 - acc: 0.\nEpoch 4/50\n7500/7500 [==============================] - 0s - loss: 0.4233 - acc: 0.7993     \nEpoch 5/50\n7500/7500 [==============================] - 0s - loss: 0.4205 - acc: 0.7993     \nEpoch 6/50\n7500/7500 [==============================] - 0s - loss: 0.4176 - acc: 0.7993     \nEpoch 7/50\n7500/7500 [==============================] - 0s - loss: 0.4152 - acc: 0.8025     \nEpoch 8/50\n7500/7500 [==============================] - 0s - loss: 0.4132 - acc: 0.8272     \nEpoch 9/50\n7500/7500 [==============================] - 0s - loss: 0.4115 - acc: 0.8297     \nEpoch 10/50\n7500/7500 [==============================] - 0s - loss: 0.4102 - acc: 0.8331     \nEpoch 11/50\n7500/7500 [==============================] - 0s - loss: 0.4089 - acc: 0.8328     \nEpoch 12/50\n7500/7500 [==============================] - 0s - loss: 0.4077 - acc: 0.8357     \nEpoch 13/50\n7500/7500 [==============================] - 0s - loss: 0.4071 - acc: 0.8360     \nEpoch 14/50\n7500/7500 [==============================] - 0s - loss: 0.4053 - acc: 0.8380     \nEpoch 15/50\n7500/7500 [==============================] - 0s - loss: 0.4045 - acc: 0.8363     \nEpoch 16/50\n7500/7500 [==============================] - 0s - loss: 0.4038 - acc: 0.8381     \nEpoch 17/50\n7500/7500 [==============================] - 0s - loss: 0.4032 - acc: 0.8376     \nEpoch 18/50\n7500/7500 [==============================] - 0s - loss: 0.4020 - acc: 0.8383     \nEpoch 19/50\n7500/7500 [==============================] - 0s - loss: 0.4016 - acc: 0.8375     \nEpoch 20/50\n7500/7500 [==============================] - 0s - loss: 0.4008 - acc: 0.8397     \nEpoch 21/50\n7500/7500 [==============================] - 0s - loss: 0.4000 - acc: 0.8384     \nEpoch 22/50\n7500/7500 [==============================] - 0s - loss: 0.3993 - acc: 0.8399     \nEpoch 23/50\n7500/7500 [==============================] - 0s - loss: 0.3988 - acc: 0.8401     \nEpoch 24/50\n7500/7500 [==============================] - 0s - loss: 0.3983 - acc: 0.8392     \nEpoch 25/50\n7500/7500 [==============================] - 0s - loss: 0.3977 - acc: 0.8397     \nEpoch 26/50\n7500/7500 [==============================] - 0s - loss: 0.3975 - acc: 0.8391     \nEpoch 27/50\n7500/7500 [==============================] - 0s - loss: 0.3970 - acc: 0.8385     \nEpoch 28/50\n7500/7500 [==============================] - 0s - loss: 0.3972 - acc: 0.8400     \nEpoch 29/50\n7500/7500 [==============================] - 0s - loss: 0.3964 - acc: 0.8383     \nEpoch 30/50\n7500/7500 [==============================] - 0s - loss: 0.3964 - acc: 0.8399     \nEpoch 31/50\n7500/7500 [==============================] - 0s - loss: 0.3958 - acc: 0.8377     \nEpoch 32/50\n7500/7500 [==============================] - 0s - loss: 0.3958 - acc: 0.8392     \nEpoch 33/50\n7500/7500 [==============================] - 0s - loss: 0.3956 - acc: 0.8391     \nEpoch 34/50\n7500/7500 [==============================] - 0s - loss: 0.3944 - acc: 0.8397     \nEpoch 35/50\n7500/7500 [==============================] - 0s - loss: 0.3943 - acc: 0.8377     \nEpoch 36/50\n7500/7500 [==============================] - 0s - loss: 0.3940 - acc: 0.8403     \nEpoch 37/50\n7500/7500 [==============================] - 0s - loss: 0.3939 - acc: 0.8401     \nEpoch 38/50\n7500/7500 [==============================] - 0s - loss: 0.3933 - acc: 0.8409     \nEpoch 39/50\n7500/7500 [==============================] - 0s - loss: 0.3934 - acc: 0.8401     \nEpoch 40/50\n7500/7500 [==============================] - 0s - loss: 0.3927 - acc: 0.8387     \nEpoch 41/50\n7500/7500 [==============================] - 0s - loss: 0.3932 - acc: 0.8388     \nEpoch 42/50\n7500/7500 [==============================] - 0s - loss: 0.3925 - acc: 0.8404     \nEpoch 43/50\n7500/7500 [==============================] - 0s - loss: 0.3924 - acc: 0.8392     \nEpoch 44/50\n7500/7500 [==============================] - 0s - loss: 0.3920 - acc: 0.8385     \nEpoch 45/50\n7500/7500 [==============================] - 0s - loss: 0.3922 - acc: 0.8385     \nEpoch 46/50\n7500/7500 [==============================] - 0s - loss: 0.3921 - acc: 0.8395     \nEpoch 47/50\n7500/7500 [==============================] - 0s - loss: 0.3915 - acc: 0.8387     \nEpoch 48/50\n7500/7500 [==============================] - 0s - loss: 0.3918 - acc: 0.8404     \nEpoch 49/50\n7500/7500 [==============================] - 0s - loss: 0.3920 - acc: 0.8400     \nEpoch 50/50\n7500/7500 [==============================] - 0s - loss: 0.3916 - acc: 0.8389     \n"
                }
            ]
        }, 
        {
            "source": "# print hist.history", 
            "metadata": {}, 
            "execution_count": 25, 
            "cell_type": "code", 
            "outputs": []
        }, 
        {
            "metadata": {}, 
            "source": "Step 12. Predicting the test result", 
            "cell_type": "markdown"
        }, 
        {
            "source": "classifier.save(\"churn_model_epoch50.hdf5\")", 
            "metadata": {}, 
            "execution_count": 26, 
            "cell_type": "code", 
            "outputs": []
        }, 
        {
            "source": "hist = classifier.fit(X_train, y_train, batch_size=32, nb_epoch=50)", 
            "metadata": {}, 
            "execution_count": 27, 
            "cell_type": "code", 
            "outputs": [
                {
                    "name": "stdout", 
                    "output_type": "stream", 
                    "text": "Epoch 1/50\n7500/7500 [==============================] - 0s - loss: 0.3907 - acc: 0.8396     \nEpoch 2/50\n7500/7500 [==============================] - 0s - loss: 0.3913 - acc: 0.8403     \nEpoch 3/50\n7500/7500 [==============================] - 0s - loss: 0.3911 - acc: 0.8388     \nEpoch 4/50\n7500/7500 [==============================] - 0s - loss: 0.3906 - acc: 0.8395     \nEpoch 5/50\n7500/7500 [==============================] - 0s - loss: 0.3906 - acc: 0.8396     \nEpoch 6/50\n7500/7500 [==============================] - 0s - loss: 0.3905 - acc: 0.8416     \nEpoch 7/50\n7500/7500 [==============================] - 0s - loss: 0.3901 - acc: 0.8401     \nEpoch 8/50\n7500/7500 [==============================] - 0s - loss: 0.3903 - acc: 0.8425     \nEpoch 9/50\n7500/7500 [==============================] - 0s - loss: 0.3903 - acc: 0.8407     \nEpoch 10/50\n7500/7500 [==============================] - 0s - loss: 0.3900 - acc: 0.8417     \nEpoch 11/50\n7500/7500 [==============================] - 0s - loss: 0.3900 - acc: 0.8407     \nEpoch 12/50\n7500/7500 [==============================] - 0s - loss: 0.3902 - acc: 0.8377     \nEpoch 13/50\n7500/7500 [==============================] - 0s - loss: 0.3899 - acc: 0.8421     \nEpoch 14/50\n7500/7500 [==============================] - 0s - loss: 0.3900 - acc: 0.8391     \nEpoch 15/50\n7500/7500 [==============================] - 0s - loss: 0.3897 - acc: 0.8401     \nEpoch 16/50\n7500/7500 [==============================] - 0s - loss: 0.3895 - acc: 0.8421     \nEpoch 17/50\n7500/7500 [==============================] - 0s - loss: 0.3896 - acc: 0.8424     \nEpoch 18/50\n7500/7500 [==============================] - 0s - loss: 0.3893 - acc: 0.8412     \nEpoch 19/50\n7500/7500 [==============================] - 0s - loss: 0.3901 - acc: 0.8405     \nEpoch 20/50\n7500/7500 [==============================] - 0s - loss: 0.3898 - acc: 0.8413     \nEpoch 21/50\n7500/7500 [==============================] - 0s - loss: 0.3892 - acc: 0.8424     \nEpoch 22/50\n7500/7500 [==============================] - 0s - loss: 0.3897 - acc: 0.8411     \nEpoch 23/50\n7500/7500 [==============================] - 0s - loss: 0.3894 - acc: 0.8421     \nEpoch 24/50\n7500/7500 [==============================] - 0s - loss: 0.3893 - acc: 0.8435     \nEpoch 25/50\n7500/7500 [==============================] - 0s - loss: 0.3891 - acc: 0.8417     \nEpoch 26/50\n7500/7500 [==============================] - 0s - loss: 0.3894 - acc: 0.8424     \nEpoch 27/50\n7500/7500 [==============================] - 0s - loss: 0.3891 - acc: 0.8435     \nEpoch 28/50\n7500/7500 [==============================] - 0s - loss: 0.3890 - acc: 0.8404     \nEpoch 29/50\n7500/7500 [==============================] - 0s - loss: 0.3895 - acc: 0.8417     \nEpoch 30/50\n7500/7500 [==============================] - 0s - loss: 0.3897 - acc: 0.8420     \nEpoch 31/50\n7500/7500 [==============================] - 0s - loss: 0.3890 - acc: 0.8411     \nEpoch 32/50\n7500/7500 [==============================] - 0s - loss: 0.3894 - acc: 0.8415     \nEpoch 33/50\n7500/7500 [==============================] - 0s - loss: 0.3889 - acc: 0.8411     \nEpoch 34/50\n7500/7500 [==============================] - 0s - loss: 0.3888 - acc: 0.8407     \nEpoch 35/50\n7500/7500 [==============================] - 0s - loss: 0.3890 - acc: 0.8420     \nEpoch 36/50\n7500/7500 [==============================] - 0s - loss: 0.3893 - acc: 0.8400     \nEpoch 37/50\n7500/7500 [==============================] - 0s - loss: 0.3887 - acc: 0.8423     \nEpoch 38/50\n7500/7500 [==============================] - 0s - loss: 0.3893 - acc: 0.8401     \nEpoch 39/50\n7500/7500 [==============================] - 0s - loss: 0.3886 - acc: 0.8423     \nEpoch 40/50\n7500/7500 [==============================] - 0s - loss: 0.3891 - acc: 0.8424     \nEpoch 41/50\n7500/7500 [==============================] - 0s - loss: 0.3885 - acc: 0.8431     \nEpoch 42/50\n7500/7500 [==============================] - 0s - loss: 0.3891 - acc: 0.8419     \nEpoch 43/50\n7500/7500 [==============================] - 0s - loss: 0.3896 - acc: 0.8416     \nEpoch 44/50\n7500/7500 [==============================] - 0s - loss: 0.3885 - acc: 0.8425     \nEpoch 45/50\n7500/7500 [==============================] - 0s - loss: 0.3882 - acc: 0.8411     \nEpoch 46/50\n7500/7500 [==============================] - 0s - loss: 0.3884 - acc: 0.8424     \nEpoch 47/50\n7500/7500 [==============================] - 0s - loss: 0.3889 - acc: 0.8408     \nEpoch 48/50\n7500/7500 [==============================] - 0s - loss: 0.3881 - acc: 0.8399     \nEpoch 49/50\n7500/7500 [==============================] - 0s - loss: 0.3890 - acc: 0.8429     \nEpoch 50/50\n7500/7500 [==============================] - 0s - loss: 0.3882 - acc: 0.8431     \n"
                }
            ]
        }, 
        {
            "source": "classifier.save(\"churn_model_epoch100.hdf5\")", 
            "metadata": {}, 
            "execution_count": 28, 
            "cell_type": "code", 
            "outputs": []
        }, 
        {
            "source": "# check recorded loss & accuracy\n# print hist.history", 
            "metadata": {}, 
            "execution_count": 29, 
            "cell_type": "code", 
            "outputs": []
        }, 
        {
            "source": "# verify that models have been generated \n!ls -al *.hdf5", 
            "metadata": {
                "scrolled": true
            }, 
            "execution_count": 30, 
            "cell_type": "code", 
            "outputs": [
                {
                    "name": "stdout", 
                    "output_type": "stream", 
                    "text": "-rw------- 1 s442-595b4f813a3de1-85d300ba5a34 users 23152 Feb  8 03:02 churn_model_epoch100.hdf5\r\n-rw------- 1 s442-595b4f813a3de1-85d300ba5a34 users 23152 Feb  8 03:02 churn_model_epoch50.hdf5\r\n"
                }
            ]
        }, 
        {
            "source": "# predicting the test set results\ny_pred = classifier.predict(X_test)\ny_pred = (y_pred > 0.5)", 
            "metadata": {}, 
            "execution_count": 31, 
            "cell_type": "code", 
            "outputs": []
        }, 
        {
            "metadata": {}, 
            "source": "Step 13. Evaluating model performance (accuracy)", 
            "cell_type": "markdown"
        }, 
        {
            "source": "# creating confusion matrix\nfrom sklearn.metrics import confusion_matrix\ncm = confusion_matrix(y_test, y_pred)", 
            "metadata": {}, 
            "execution_count": 32, 
            "cell_type": "code", 
            "outputs": []
        }, 
        {
            "source": "#confusion matrix\n#               event          no-event\n# event      true positive   false positive\n# no-event   false negative  true negative\nprint cm\n\n# calculating model performance from the confusion matrix\ncm_truepositive = float(cm[0,0])\ncm_truenegative = float(cm[1,1])\ncm_total = float(cm[0,0] + cm[0,1] + cm [1,0] + cm [1,1])\ncm_accuracy = float((cm_truepositive + cm_truenegative) / cm_total)", 
            "metadata": {}, 
            "execution_count": 33, 
            "cell_type": "code", 
            "outputs": [
                {
                    "name": "stdout", 
                    "output_type": "stream", 
                    "text": "[[1902   66]\n [ 365  167]]\n"
                }
            ]
        }, 
        {
            "source": "# accuracy in %\nprint (cm_accuracy*100)", 
            "metadata": {}, 
            "execution_count": 34, 
            "cell_type": "code", 
            "outputs": [
                {
                    "name": "stdout", 
                    "output_type": "stream", 
                    "text": "82.76\n"
                }
            ]
        }, 
        {
            "metadata": {}, 
            "source": "Step 14. Visualizing Results", 
            "cell_type": "markdown"
        }, 
        {
            "source": "# e.g. can use pyplot here to do some visualization as needed\n\n# visualizing our model\n# generate the model image\nfrom keras.utils.visualize_util import plot\nplot(classifier, to_file='churn_model.png', show_shapes = True, show_layer_names = True)\n\n# verify that the image has been generated successfully\n!ls -al churn_model.png", 
            "metadata": {}, 
            "execution_count": 35, 
            "cell_type": "code", 
            "outputs": [
                {
                    "name": "stdout", 
                    "output_type": "stream", 
                    "text": "-rw------- 1 s442-595b4f813a3de1-85d300ba5a34 users 27742 Feb  8 03:02 churn_model.png\r\n"
                }
            ]
        }, 
        {
            "source": "# view the generated .png image (model)\nfrom IPython.display import Image\nImage(filename='churn_model.png') ", 
            "metadata": {}, 
            "execution_count": 36, 
            "cell_type": "code", 
            "outputs": [
                {
                    "data": {
                        "text/plain": "<IPython.core.display.Image object>", 
                        "image/png": "[encoded data removed]"
                    }, 
                    "metadata": {}, 
                    "execution_count": 36, 
                    "output_type": "execute_result"
                }
            ]
        }, 
        {
            "metadata": {}, 
            "source": "Step 15. Loading \"saved model\" to be used in the application", 
            "cell_type": "markdown"
        }, 
        {
            "source": "# 1st approach to load saved model\n# from keras.models import load_model\n# classifier.load_model(\"churn_model_epoch50.hdf5\")\n# ...\n# use model here...\n# ...\n#\n# alternatively can use the following approach:\n# import h5py\n# with h5py.File('churn_model_epoch50.hdf5', 'r') as f:\n#    x_data = f['x_data']\n#    model_variable.predict(x_data)", 
            "metadata": {}, 
            "execution_count": 37, 
            "cell_type": "code", 
            "outputs": []
        }
    ], 
    "nbformat_minor": 2
}